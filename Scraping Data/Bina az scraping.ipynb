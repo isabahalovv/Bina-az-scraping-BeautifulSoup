{
 "cells": [
  {
   "cell_type": "code",
   "execution_count": null,
   "id": "4a00688d",
   "metadata": {},
   "outputs": [],
   "source": [
    "import requests\n",
    "from bs4 import BeautifulSoup as bs\n",
    "import pandas as pd\n",
    "import webbrowser\n",
    "import numpy as np\n",
    "import time"
   ]
  },
  {
   "cell_type": "markdown",
   "id": "eb558b79",
   "metadata": {},
   "source": [
    "### <><><><><><><><><><><><><><><><><><><><><><><><><><><><><><><><><><><><><><><><><><><><>"
   ]
  },
  {
   "cell_type": "markdown",
   "id": "b17034c2",
   "metadata": {},
   "source": [
    "### Splitting urls into parts"
   ]
  },
  {
   "cell_type": "markdown",
   "id": "526439f2",
   "metadata": {},
   "source": [
    "### <><><><><><><><><><><><><><><><><><><><><><><><><><><><><><><><><><><><><><><><><><><><>"
   ]
  },
  {
   "cell_type": "markdown",
   "id": "388d3052",
   "metadata": {},
   "source": [
    "### All urls"
   ]
  },
  {
   "cell_type": "code",
   "execution_count": null,
   "id": "0b3a7868",
   "metadata": {},
   "outputs": [],
   "source": [
    "df = pd.read_csv('Bina_az_urls.csv')\n",
    "df = df.drop('Unnamed: 0', axis = 1)\n",
    "df"
   ]
  },
  {
   "cell_type": "code",
   "execution_count": null,
   "id": "01602e9f",
   "metadata": {},
   "outputs": [],
   "source": [
    "urls_all = [a for a in df['Urls']]\n",
    "len(urls_all)"
   ]
  },
  {
   "cell_type": "markdown",
   "id": "16832f6b",
   "metadata": {},
   "source": [
    "### <><><><><><><><><><><><><><><><><><><><><><><><><><><><><><><><><><><><><><><><><><><><>\n",
    "\n",
    "#### 0 - 5.000"
   ]
  },
  {
   "cell_type": "code",
   "execution_count": null,
   "id": "8d2ed385",
   "metadata": {},
   "outputs": [],
   "source": [
    "urls_0_5000 = [a for a in df['Urls']][:5001]\n",
    "len(urls_0_5000)"
   ]
  },
  {
   "cell_type": "markdown",
   "id": "45394b88",
   "metadata": {},
   "source": [
    "### <><><><><><><><><><><><><><><><><><><><><><><><><><><><><><><><><><><><><><><><><><><><>\n",
    "\n",
    "#### 5.000 - 10.000"
   ]
  },
  {
   "cell_type": "code",
   "execution_count": null,
   "id": "98a4a2fa",
   "metadata": {},
   "outputs": [],
   "source": [
    "urls_5000_10000 = [a for a in df['Urls']][5001:10001]\n",
    "len(urls_5000_10000)"
   ]
  },
  {
   "cell_type": "markdown",
   "id": "917c9ad1",
   "metadata": {},
   "source": [
    "### <><><><><><><><><><><><><><><><><><><><><><><><><><><><><><><><><><><><><><><><><><><><>\n",
    "\n",
    "#### 10.000 - 15.000"
   ]
  },
  {
   "cell_type": "code",
   "execution_count": null,
   "id": "933e7d65",
   "metadata": {},
   "outputs": [],
   "source": [
    "urls_10000_15000 = [a for a in df['Urls']][10001:15001]\n",
    "len(urls_10000_15000)"
   ]
  },
  {
   "cell_type": "markdown",
   "id": "2b0c3af3",
   "metadata": {},
   "source": [
    "### <><><><><><><><><><><><><><><><><><><><><><><><><><><><><><><><><><><><><><><><><><><><>\n",
    "\n",
    "#### 15.000 - 20.000"
   ]
  },
  {
   "cell_type": "code",
   "execution_count": null,
   "id": "f56d6312",
   "metadata": {},
   "outputs": [],
   "source": [
    "urls_15000_20000 = [a for a in df['Urls']][15001:20001]\n",
    "len(urls_15000_20000)"
   ]
  },
  {
   "cell_type": "markdown",
   "id": "916790ea",
   "metadata": {},
   "source": [
    "### <><><><><><><><><><><><><><><><><><><><><><><><><><><><><><><><><><><><><><><><><><><><>\n",
    "\n",
    "#### 20.000 - 25.000"
   ]
  },
  {
   "cell_type": "code",
   "execution_count": null,
   "id": "25a06103",
   "metadata": {},
   "outputs": [],
   "source": [
    "urls_20000_25000 = [a for a in df['Urls']][20001:25001]\n",
    "len(urls_20000_25000)"
   ]
  },
  {
   "cell_type": "markdown",
   "id": "96d164d4",
   "metadata": {},
   "source": [
    "### <><><><><><><><><><><><><><><><><><><><><><><><><><><><><><><><><><><><><><><><><><><><>\n",
    "\n",
    "#### 25.000 - 28.662"
   ]
  },
  {
   "cell_type": "code",
   "execution_count": null,
   "id": "2e4ad016",
   "metadata": {},
   "outputs": [],
   "source": [
    "urls_25000_28662 = [a for a in df['Urls']][25001:28662]\n",
    "len(urls_25000_28662)"
   ]
  },
  {
   "cell_type": "markdown",
   "id": "c0ff5e27",
   "metadata": {},
   "source": [
    "### <><><><><><><><><><><><><><><><><><><><><><><><><><><><><><><><><><><><><><><><><><><><>"
   ]
  },
  {
   "cell_type": "markdown",
   "id": "de8f4ef3",
   "metadata": {},
   "source": [
    "### Extracting data"
   ]
  },
  {
   "cell_type": "code",
   "execution_count": null,
   "id": "22662e5b",
   "metadata": {},
   "outputs": [],
   "source": [
    "start_time = time.time()\n",
    "\n",
    "qiymetler = []\n",
    "kategoriyalar = []\n",
    "mertebeler = []\n",
    "otaqlar = []\n",
    "kupcalar = []\n",
    "seherler = []\n",
    "\n",
    "for link in urls_20000_25000:\n",
    "    request = requests.get(link)\n",
    "    soup = bs(request.content, 'html.parser')\n",
    "    \n",
    "    if link == urls_20000_25000[1000]:\n",
    "        print('20 %')\n",
    "    elif link == urls_20000_25000[2000]:\n",
    "        print('40 %')\n",
    "    elif link == urls_20000_25000[3000]:\n",
    "        print('60 %')\n",
    "    elif link == urls_20000_25000[4000]:\n",
    "        print('80 %')\n",
    "    elif link == urls_20000_25000[4500]:\n",
    "        print('90 %')\n",
    "        \n",
    "    # qiymet\n",
    "    try:\n",
    "        qiymet = soup.find('span', {'class':'price-val'}).text\n",
    "        qiymetler.append(qiymet)\n",
    "    except:\n",
    "         qiymetler.append(np.nan)\n",
    "    \n",
    "    # kategoriya\n",
    "    try:\n",
    "        kategoriya = soup.find('table', {'class':'parameters'}).find_all('td')[1].text\n",
    "        kategoriyalar.append(kategoriya)\n",
    "    except:\n",
    "        kategoriyalar.append(np.nan)\n",
    "    \n",
    "    # mertebe\n",
    "    try:\n",
    "        mertebe = soup.find('table', {'class':'parameters'}).find_all('td')[3].text\n",
    "        mertebeler.append(mertebe)\n",
    "    except:\n",
    "        mertebeler.append(np.nan)\n",
    "    \n",
    "    # otaq\n",
    "    try:\n",
    "        otaq = soup.find('table', {'class':'parameters'}).find_all('td')[7].text\n",
    "        otaqlar.append(otaq)\n",
    "    except:\n",
    "        otaqlar.append(np.nan)\n",
    "    \n",
    "    # kupca\n",
    "    try:\n",
    "        kupca = soup.find('table', {'class':'parameters'}).find_all('td')[9].text\n",
    "        kupcalar.append(kupca)\n",
    "    except:\n",
    "        kupcalar.append(np.nan)\n",
    "    \n",
    "    # seher\n",
    "    try:\n",
    "        seher = soup.find('div', {'class':'map_address'}).text.lstrip('Ünvan: ')\n",
    "        seherler.append(seher)\n",
    "    except:\n",
    "        seherler.append(np.nan)\n",
    " \n",
    "\n",
    "webbrowser.open(\"Sweat Dreams.mp3\")  \n",
    "finish_time = time.time()\n",
    "print(\"--- %s seconds ---\" % (finish_time - start_time))"
   ]
  },
  {
   "cell_type": "markdown",
   "id": "5058cb7d",
   "metadata": {},
   "source": [
    "### <><><><><><><><><><><><><><><><><><><><><><><><><><><><><><><><><><><><><><><><><><><><>"
   ]
  },
  {
   "cell_type": "markdown",
   "id": "76da2dc0",
   "metadata": {},
   "source": [
    "### Creating DataFrame"
   ]
  },
  {
   "cell_type": "code",
   "execution_count": null,
   "id": "012085e4",
   "metadata": {},
   "outputs": [],
   "source": [
    "df = pd.DataFrame({'Qiymet':qiymetler, 'Kategoriya':kategoriyalar, 'Mertebe':mertebeler, 'Otaq':otaqlar, 'Kupca':kupcalar, 'Seher':seherler})"
   ]
  },
  {
   "cell_type": "markdown",
   "id": "a28496d5",
   "metadata": {},
   "source": [
    "### <><><><><><><><><><><><><><><><><><><><><><><><><><><><><><><><><><><><><><><><><><><><>"
   ]
  },
  {
   "cell_type": "markdown",
   "id": "2e38230e",
   "metadata": {},
   "source": [
    "### Saving dataframes as csv files"
   ]
  },
  {
   "cell_type": "code",
   "execution_count": null,
   "id": "914c549a",
   "metadata": {},
   "outputs": [],
   "source": [
    "df"
   ]
  },
  {
   "cell_type": "code",
   "execution_count": null,
   "id": "17851484",
   "metadata": {},
   "outputs": [],
   "source": [
    "df.to_csv('bina_az_20000_25000.csv')"
   ]
  },
  {
   "cell_type": "markdown",
   "id": "6a98642f",
   "metadata": {},
   "source": [
    "### <><><><><><><><><><><><><><><><><><><><><><><><><><><><><><><><><><><><><><><><><><><><>"
   ]
  }
 ],
 "metadata": {
  "kernelspec": {
   "display_name": "Python 3 (ipykernel)",
   "language": "python",
   "name": "python3"
  },
  "language_info": {
   "codemirror_mode": {
    "name": "ipython",
    "version": 3
   },
   "file_extension": ".py",
   "mimetype": "text/x-python",
   "name": "python",
   "nbconvert_exporter": "python",
   "pygments_lexer": "ipython3",
   "version": "3.10.7"
  }
 },
 "nbformat": 4,
 "nbformat_minor": 5
}
